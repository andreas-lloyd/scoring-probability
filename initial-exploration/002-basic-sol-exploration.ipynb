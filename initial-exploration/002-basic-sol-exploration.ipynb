{
 "cells": [
  {
   "cell_type": "code",
   "execution_count": 7,
   "metadata": {},
   "outputs": [],
   "source": [
    "import pandas as pd\n",
    "import plotnine as pn\n",
    "\n",
    "# Get credentials\n",
    "with open('/home/andreas/Dropbox/Projects/scoring-probability/credentials', 'r') as credentials_file:\n",
    "    URI = credentials_file.read()\n",
    "    \n",
    "# Get query\n",
    "with open('player-scored-query.sql', 'r') as query_file:\n",
    "    query = query_file.read()\n",
    "    \n",
    "# Pandas\n",
    "pd.set_option('display.max_rows', 500)\n",
    "pd.set_option('display.max_columns', 500)"
   ]
  },
  {
   "cell_type": "code",
   "execution_count": 2,
   "metadata": {},
   "outputs": [],
   "source": [
    "# Get the data\n",
    "result = pd.read_sql(query, URI)"
   ]
  },
  {
   "cell_type": "code",
   "execution_count": 3,
   "metadata": {},
   "outputs": [
    {
     "data": {
      "text/html": [
       "<div>\n",
       "<style scoped>\n",
       "    .dataframe tbody tr th:only-of-type {\n",
       "        vertical-align: middle;\n",
       "    }\n",
       "\n",
       "    .dataframe tbody tr th {\n",
       "        vertical-align: top;\n",
       "    }\n",
       "\n",
       "    .dataframe thead th {\n",
       "        text-align: right;\n",
       "    }\n",
       "</style>\n",
       "<table border=\"1\" class=\"dataframe\">\n",
       "  <thead>\n",
       "    <tr style=\"text-align: right;\">\n",
       "      <th></th>\n",
       "      <th>fixture_uid</th>\n",
       "      <th>team_uid</th>\n",
       "      <th>is_home</th>\n",
       "      <th>player_uid</th>\n",
       "      <th>kick_off</th>\n",
       "      <th>gameweek</th>\n",
       "      <th>season</th>\n",
       "      <th>position</th>\n",
       "      <th>played</th>\n",
       "      <th>scored</th>\n",
       "      <th>appearance_number</th>\n",
       "      <th>matches_scored</th>\n",
       "      <th>match_number</th>\n",
       "      <th>matches_scored_until_now</th>\n",
       "      <th>appearances_until_now</th>\n",
       "      <th>matches_until_now</th>\n",
       "      <th>chance_score_given_played</th>\n",
       "      <th>chance_score</th>\n",
       "    </tr>\n",
       "  </thead>\n",
       "  <tbody>\n",
       "    <tr>\n",
       "      <th>0</th>\n",
       "      <td>c234ba3c78a51d023833c83b88a7fa5d</td>\n",
       "      <td>9d292673b9c1ebe339be9d36032d5e2e</td>\n",
       "      <td>1</td>\n",
       "      <td>015ab60ee2fcf75b0326823cf47fc32b</td>\n",
       "      <td>2019-08-10 12:30:00</td>\n",
       "      <td>1</td>\n",
       "      <td>1920</td>\n",
       "      <td>gk</td>\n",
       "      <td>0</td>\n",
       "      <td>0</td>\n",
       "      <td>0</td>\n",
       "      <td>0</td>\n",
       "      <td>1</td>\n",
       "      <td>0</td>\n",
       "      <td>15</td>\n",
       "      <td>15</td>\n",
       "      <td>0</td>\n",
       "      <td>0</td>\n",
       "    </tr>\n",
       "    <tr>\n",
       "      <th>1</th>\n",
       "      <td>d7527be5828734075d0caa9194c69437</td>\n",
       "      <td>9d292673b9c1ebe339be9d36032d5e2e</td>\n",
       "      <td>0</td>\n",
       "      <td>015ab60ee2fcf75b0326823cf47fc32b</td>\n",
       "      <td>2019-08-17 15:00:00</td>\n",
       "      <td>2</td>\n",
       "      <td>1920</td>\n",
       "      <td>gk</td>\n",
       "      <td>0</td>\n",
       "      <td>0</td>\n",
       "      <td>0</td>\n",
       "      <td>0</td>\n",
       "      <td>2</td>\n",
       "      <td>0</td>\n",
       "      <td>16</td>\n",
       "      <td>17</td>\n",
       "      <td>0</td>\n",
       "      <td>0</td>\n",
       "    </tr>\n",
       "    <tr>\n",
       "      <th>2</th>\n",
       "      <td>282a535c1a57b5aa490b45927d41c57a</td>\n",
       "      <td>9d292673b9c1ebe339be9d36032d5e2e</td>\n",
       "      <td>0</td>\n",
       "      <td>015ab60ee2fcf75b0326823cf47fc32b</td>\n",
       "      <td>2019-08-24 15:00:00</td>\n",
       "      <td>3</td>\n",
       "      <td>1920</td>\n",
       "      <td>gk</td>\n",
       "      <td>0</td>\n",
       "      <td>0</td>\n",
       "      <td>0</td>\n",
       "      <td>0</td>\n",
       "      <td>3</td>\n",
       "      <td>0</td>\n",
       "      <td>16</td>\n",
       "      <td>18</td>\n",
       "      <td>0</td>\n",
       "      <td>0</td>\n",
       "    </tr>\n",
       "    <tr>\n",
       "      <th>3</th>\n",
       "      <td>51c192c4d46d8e91d3068f0fd56d3e75</td>\n",
       "      <td>9d292673b9c1ebe339be9d36032d5e2e</td>\n",
       "      <td>1</td>\n",
       "      <td>015ab60ee2fcf75b0326823cf47fc32b</td>\n",
       "      <td>2019-08-31 15:00:00</td>\n",
       "      <td>4</td>\n",
       "      <td>1920</td>\n",
       "      <td>gk</td>\n",
       "      <td>0</td>\n",
       "      <td>0</td>\n",
       "      <td>0</td>\n",
       "      <td>0</td>\n",
       "      <td>4</td>\n",
       "      <td>0</td>\n",
       "      <td>15</td>\n",
       "      <td>18</td>\n",
       "      <td>0</td>\n",
       "      <td>0</td>\n",
       "    </tr>\n",
       "    <tr>\n",
       "      <th>4</th>\n",
       "      <td>754a58406ca76df91d773087f45f2ccd</td>\n",
       "      <td>9d292673b9c1ebe339be9d36032d5e2e</td>\n",
       "      <td>0</td>\n",
       "      <td>015ab60ee2fcf75b0326823cf47fc32b</td>\n",
       "      <td>2019-09-16 20:00:00</td>\n",
       "      <td>5</td>\n",
       "      <td>1920</td>\n",
       "      <td>gk</td>\n",
       "      <td>0</td>\n",
       "      <td>0</td>\n",
       "      <td>0</td>\n",
       "      <td>0</td>\n",
       "      <td>5</td>\n",
       "      <td>0</td>\n",
       "      <td>16</td>\n",
       "      <td>20</td>\n",
       "      <td>0</td>\n",
       "      <td>0</td>\n",
       "    </tr>\n",
       "  </tbody>\n",
       "</table>\n",
       "</div>"
      ],
      "text/plain": [
       "                        fixture_uid                          team_uid  \\\n",
       "0  c234ba3c78a51d023833c83b88a7fa5d  9d292673b9c1ebe339be9d36032d5e2e   \n",
       "1  d7527be5828734075d0caa9194c69437  9d292673b9c1ebe339be9d36032d5e2e   \n",
       "2  282a535c1a57b5aa490b45927d41c57a  9d292673b9c1ebe339be9d36032d5e2e   \n",
       "3  51c192c4d46d8e91d3068f0fd56d3e75  9d292673b9c1ebe339be9d36032d5e2e   \n",
       "4  754a58406ca76df91d773087f45f2ccd  9d292673b9c1ebe339be9d36032d5e2e   \n",
       "\n",
       "   is_home                        player_uid            kick_off  gameweek  \\\n",
       "0        1  015ab60ee2fcf75b0326823cf47fc32b 2019-08-10 12:30:00         1   \n",
       "1        0  015ab60ee2fcf75b0326823cf47fc32b 2019-08-17 15:00:00         2   \n",
       "2        0  015ab60ee2fcf75b0326823cf47fc32b 2019-08-24 15:00:00         3   \n",
       "3        1  015ab60ee2fcf75b0326823cf47fc32b 2019-08-31 15:00:00         4   \n",
       "4        0  015ab60ee2fcf75b0326823cf47fc32b 2019-09-16 20:00:00         5   \n",
       "\n",
       "   season position  played  scored  appearance_number  matches_scored  \\\n",
       "0    1920       gk       0       0                  0               0   \n",
       "1    1920       gk       0       0                  0               0   \n",
       "2    1920       gk       0       0                  0               0   \n",
       "3    1920       gk       0       0                  0               0   \n",
       "4    1920       gk       0       0                  0               0   \n",
       "\n",
       "   match_number  matches_scored_until_now  appearances_until_now  \\\n",
       "0             1                         0                     15   \n",
       "1             2                         0                     16   \n",
       "2             3                         0                     16   \n",
       "3             4                         0                     15   \n",
       "4             5                         0                     16   \n",
       "\n",
       "   matches_until_now  chance_score_given_played  chance_score  \n",
       "0                 15                          0             0  \n",
       "1                 17                          0             0  \n",
       "2                 18                          0             0  \n",
       "3                 18                          0             0  \n",
       "4                 20                          0             0  "
      ]
     },
     "execution_count": 3,
     "metadata": {},
     "output_type": "execute_result"
    }
   ],
   "source": [
    "result.head()"
   ]
  },
  {
   "cell_type": "code",
   "execution_count": 59,
   "metadata": {},
   "outputs": [],
   "source": [
    "# Get some info on the player\n",
    "player_query = \"\"\"\n",
    "select a.uid as player_uid, a.name, b.name as team_name, primary_color from data_players a join data_teams b on a.team_uid = b.uid\n",
    "\"\"\"\n",
    "\n",
    "player_info = pd.read_sql(player_query, URI)"
   ]
  },
  {
   "cell_type": "code",
   "execution_count": 60,
   "metadata": {},
   "outputs": [],
   "source": [
    "result_w_info = result.merge(player_info)"
   ]
  },
  {
   "cell_type": "markdown",
   "metadata": {},
   "source": [
    "## Who is the most likely to have scored each game week?"
   ]
  },
  {
   "cell_type": "code",
   "execution_count": 20,
   "metadata": {},
   "outputs": [],
   "source": [
    "import matplotlib.pyplot as plt\n",
    "import matplotlib.ticker as ticker\n",
    "import matplotlib.animation as animation\n",
    "from IPython.display import HTML"
   ]
  },
  {
   "cell_type": "code",
   "execution_count": 61,
   "metadata": {},
   "outputs": [],
   "source": [
    "# Note that within a gameweek we could duplicate\n",
    "s_by = ['gameweek', 'chance_score']\n",
    "g_by = s_by[0]\n",
    "keep = ['name', 'team_name', 'chance_score', 'gameweek', 'primary_color']\n",
    "top_players = result_w_info.sort_values(s_by, ascending=[True, False]).groupby(g_by).head()[keep].sort_values(s_by)"
   ]
  },
  {
   "cell_type": "code",
   "execution_count": 77,
   "metadata": {},
   "outputs": [],
   "source": [
    "def draw_barchart(gameweek):\n",
    "    c = top_players.gameweek == gameweek\n",
    "    colors = top_players.loc[c, 'primary_color'].replace('_', '', regex=True).tolist()\n",
    "    \n",
    "    ax.clear()\n",
    "    ax.barh(top_players.loc[c, 'name'], top_players.loc[c, 'chance_score'], color=colors)\n",
    "    \n",
    "    for i, (value, name) in enumerate(zip(top_players.loc[c, 'chance_score'], top_players.loc[c, 'name'])):\n",
    "        team_name = player_info.loc[player_info.name == name, 'team_name'].iloc[0]\n",
    "        \n",
    "        ax.text(value, i, name + ' ', size=14, weight=600, ha='right', va='bottom')  # Tokyo: name\n",
    "        ax.text(value, i-.25, team_name + ' ', size=14, color='#444444', ha='right', va='baseline')  # Asia: group name\n",
    "        ax.text(value, i, f'  {value:,.0f}', size=14, ha='left',  va='center')   # 38194.2: value\n",
    "    \n",
    "    # ... polished styles\n",
    "    ax.text(1, 0.4, gameweek, transform=ax.transAxes, color='#777777', size=46, ha='right', weight=800)\n",
    "    ax.text(0, 1.06, 'Probability to score', transform=ax.transAxes, size=12, color='#777777')\n",
    "    ax.xaxis.set_major_formatter(ticker.StrMethodFormatter('{x:,.0f}'))\n",
    "    ax.xaxis.set_ticks_position('top')\n",
    "    ax.tick_params(axis='x', colors='#777777', labelsize=12)\n",
    "    ax.set_yticks([])\n",
    "    ax.margins(0, 0.01)\n",
    "    ax.grid(which='major', axis='x', linestyle='-')\n",
    "    ax.set_axisbelow(True)\n",
    "    ax.text(0, 1.12, 'Most probable goal scores each gameweek',\n",
    "            transform=ax.transAxes, size=24, weight=600, ha='left')\n",
    "    plt.box(False)"
   ]
  },
  {
   "cell_type": "code",
   "execution_count": 82,
   "metadata": {},
   "outputs": [
    {
     "data": {
      "image/png": "[encoded data removed]",
      "text/plain": [
       "<Figure size 1080x576 with 1 Axes>"
      ]
     },
     "metadata": {},
     "output_type": "display_data"
    }
   ],
   "source": [
    "fig, ax = plt.subplots(figsize=(15, 8))\n",
    "animator = animation.FuncAnimation(fig, draw_barchart, interval=2000, frames=range(top_players.gameweek.min(), top_players.gameweek.max()))\n",
    "animator.save('scorers-race.gif', writer='imagemagick');\n",
    "#HTML(animator.to_html5_video())\n",
    "#HTML(animator.to_jshtml()) \n",
    "# or use animator.to_html5_video() or animator.save()"
   ]
  },
  {
   "cell_type": "markdown",
   "metadata": {},
   "source": [
    "## How does the probability to score change over the season?"
   ]
  },
  {
   "cell_type": "code",
   "execution_count": null,
   "metadata": {},
   "outputs": [],
   "source": []
  },
  {
   "cell_type": "markdown",
   "metadata": {},
   "source": [
    "### How does the rank within players change over the season?"
   ]
  },
  {
   "cell_type": "code",
   "execution_count": null,
   "metadata": {},
   "outputs": [],
   "source": []
  }
 ],
 "metadata": {
  "kernelspec": {
   "display_name": "Python 3",
   "language": "python",
   "name": "python3"
  },
  "language_info": {
   "codemirror_mode": {
    "name": "ipython",
    "version": 3
   },
   "file_extension": ".py",
   "mimetype": "text/x-python",
   "name": "python",
   "nbconvert_exporter": "python",
   "pygments_lexer": "ipython3",
   "version": "3.6.10"
  }
 },
 "nbformat": 4,
 "nbformat_minor": 4
}
